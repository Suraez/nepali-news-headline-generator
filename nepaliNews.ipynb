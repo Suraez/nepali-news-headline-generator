{
  "cells": [
    {
      "cell_type": "markdown",
      "metadata": {
        "id": "view-in-github",
        "colab_type": "text"
      },
      "source": [
        "<a href=\"https://colab.research.google.com/github/Suraez/nepali-news-headline-generator/blob/main/nepaliNews.ipynb\" target=\"_parent\"><img src=\"https://colab.research.google.com/assets/colab-badge.svg\" alt=\"Open In Colab\"/></a>"
      ]
    },
    {
      "cell_type": "code",
      "execution_count": 53,
      "metadata": {
        "id": "xhxllZU2TARA"
      },
      "outputs": [],
      "source": [
        "import pickle\n",
        "def load_headline_from_file():\n",
        "    with open('/content/output.pkl', 'rb') as file:\n",
        "        lst = pickle.load(file)\n",
        "    return lst"
      ]
    },
    {
      "cell_type": "code",
      "execution_count": null,
      "metadata": {
        "id": "ggE-O-L1TTto"
      },
      "outputs": [],
      "source": [
        "headlineList = load_headline_from_file()\n",
        "print('\\n'.join([headline for headline in headlineList]))"
      ]
    },
    {
      "cell_type": "code",
      "execution_count": 3,
      "metadata": {
        "id": "2K-DCyfdUro6"
      },
      "outputs": [],
      "source": [
        "def view_dataset(dataset):\n",
        "  print('\\n'.join([headline for headline in dataset]))"
      ]
    },
    {
      "cell_type": "code",
      "execution_count": 4,
      "metadata": {
        "colab": {
          "base_uri": "https://localhost:8080/",
          "height": 35
        },
        "id": "8XXVopjoTbCP",
        "outputId": "c727f5d5-5c7f-489d-d457-ef6d6b23d4a9"
      },
      "outputs": [
        {
          "output_type": "execute_result",
          "data": {
            "text/plain": [
              "'नीति तथा कार्यक्रम : स्वास्थ्यका के-के विषय समेटिए\\xa0?'"
            ],
            "application/vnd.google.colaboratory.intrinsic+json": {
              "type": "string"
            }
          },
          "metadata": {},
          "execution_count": 4
        }
      ],
      "source": [
        "headlineList[0]"
      ]
    },
    {
      "cell_type": "code",
      "execution_count": 5,
      "metadata": {
        "id": "X9FvQw_aT1v2"
      },
      "outputs": [],
      "source": [
        "import string\n",
        "def clean_dataset():\n",
        "    processed_sentences = []\n",
        "    for sentence in headlineList:\n",
        "        # Remove punctuation\n",
        "        sentence = sentence.translate(str.maketrans('', '', string.punctuation))\n",
        "        # Remove double spaces\n",
        "        sentence = ' '.join(sentence.split())\n",
        "        processed_sentences.append(sentence)\n",
        "    return processed_sentences"
      ]
    },
    {
      "cell_type": "code",
      "execution_count": 6,
      "metadata": {
        "id": "aUpaZ-ydUcJu"
      },
      "outputs": [],
      "source": [
        "cleanedHeadlines = clean_dataset()"
      ]
    },
    {
      "cell_type": "code",
      "execution_count": null,
      "metadata": {
        "id": "GwXs1SbCUhMr"
      },
      "outputs": [],
      "source": [
        "view_dataset(cleanedHeadlines)"
      ]
    },
    {
      "cell_type": "code",
      "execution_count": 8,
      "metadata": {
        "id": "A154G4ZuUkoc"
      },
      "outputs": [],
      "source": [
        "from keras.preprocessing.text import Tokenizer\n",
        "\n",
        "tokenizer = Tokenizer()"
      ]
    },
    {
      "cell_type": "code",
      "execution_count": 9,
      "metadata": {
        "id": "x_-c1PQeVaaz"
      },
      "outputs": [],
      "source": [
        "tokenizer.fit_on_texts(cleanedHeadlines)"
      ]
    },
    {
      "cell_type": "code",
      "execution_count": 10,
      "metadata": {
        "id": "eDcOelQjVvcK"
      },
      "outputs": [],
      "source": [
        "wordVocab = tokenizer.word_index"
      ]
    },
    {
      "cell_type": "code",
      "source": [
        "def create_data_sequence():\n",
        "  data_sequence=[]\n",
        "  for headline in cleanedHeadlines:\n",
        "    tempSequence = tokenizer.texts_to_sequences([headline])[0]\n",
        "    for i in range(1, len(tempSequence)):\n",
        "      data_sequence.append(tempSequence[:i+1])\n",
        "\n",
        "  return data_sequence"
      ],
      "metadata": {
        "id": "W_zmX4E3RSMz"
      },
      "execution_count": 12,
      "outputs": []
    },
    {
      "cell_type": "code",
      "source": [
        "data_sequence = create_data_sequence()"
      ],
      "metadata": {
        "id": "fdtnw8t2RUEV"
      },
      "execution_count": 13,
      "outputs": []
    },
    {
      "cell_type": "code",
      "source": [
        "def pad_data_sequence():\n",
        "  maxLengthDataSequence = max([len(sequence) for sequence in data_sequence])\n",
        "  for sequence in data_sequence:\n",
        "    padding_size = maxLengthDataSequence - len(sequence)\n",
        "    padding = [0] * padding_size\n",
        "    sequence[:0] = padding\n"
      ],
      "metadata": {
        "id": "2k8N6dJ_RUmE"
      },
      "execution_count": 15,
      "outputs": []
    },
    {
      "cell_type": "code",
      "source": [
        "pad_data_sequence()"
      ],
      "metadata": {
        "id": "SjWvfFz9RWEG"
      },
      "execution_count": 16,
      "outputs": []
    },
    {
      "cell_type": "code",
      "source": [
        "import numpy as np\n",
        "\n",
        "input_output_tensor = np.array(data_sequence)\n",
        "print(input_output_tensor.shape)"
      ],
      "metadata": {
        "colab": {
          "base_uri": "https://localhost:8080/"
        },
        "id": "5LFzCo2wRZ3k",
        "outputId": "b348b6b3-5217-4912-934c-a5b250e18939"
      },
      "execution_count": 17,
      "outputs": [
        {
          "output_type": "stream",
          "name": "stdout",
          "text": [
            "(194, 13)\n"
          ]
        }
      ]
    },
    {
      "cell_type": "code",
      "source": [
        "input_tensor = input_output_tensor[:, :-1]\n",
        "output_tensor = input_output_tensor[:,-1]"
      ],
      "metadata": {
        "id": "n2UyDDbERcN0"
      },
      "execution_count": 18,
      "outputs": []
    },
    {
      "cell_type": "code",
      "source": [
        "input_tensor.shape"
      ],
      "metadata": {
        "colab": {
          "base_uri": "https://localhost:8080/"
        },
        "id": "ZufloCEbRd3a",
        "outputId": "c5a9fc9f-c2ef-4b68-8390-63ab9bbc7edd"
      },
      "execution_count": 19,
      "outputs": [
        {
          "output_type": "execute_result",
          "data": {
            "text/plain": [
              "(194, 12)"
            ]
          },
          "metadata": {},
          "execution_count": 19
        }
      ]
    },
    {
      "cell_type": "code",
      "source": [
        "output_tensor.shape"
      ],
      "metadata": {
        "colab": {
          "base_uri": "https://localhost:8080/"
        },
        "id": "Oz3X_OtRRkMF",
        "outputId": "5204bae2-5d7c-4b23-a6d9-75961aeddcbb"
      },
      "execution_count": 21,
      "outputs": [
        {
          "output_type": "execute_result",
          "data": {
            "text/plain": [
              "(194,)"
            ]
          },
          "metadata": {},
          "execution_count": 21
        }
      ]
    },
    {
      "cell_type": "code",
      "source": [
        "output_tensor"
      ],
      "metadata": {
        "id": "3Btr2JMKRkme"
      },
      "execution_count": null,
      "outputs": []
    },
    {
      "cell_type": "code",
      "source": [
        "import tensorflow as tf\n",
        "output_tensor = tf.keras.utils.to_categorical(output_tensor, len(wordVocab) + 1)"
      ],
      "metadata": {
        "id": "95MgMqJaRnaP"
      },
      "execution_count": 24,
      "outputs": []
    },
    {
      "cell_type": "code",
      "source": [
        "input_tensor.shape"
      ],
      "metadata": {
        "colab": {
          "base_uri": "https://localhost:8080/"
        },
        "id": "eTbhkWm1Rp2k",
        "outputId": "47c449b7-e4e9-447f-fba1-f37e01e123ad"
      },
      "execution_count": 25,
      "outputs": [
        {
          "output_type": "execute_result",
          "data": {
            "text/plain": [
              "(194, 12)"
            ]
          },
          "metadata": {},
          "execution_count": 25
        }
      ]
    },
    {
      "cell_type": "code",
      "source": [
        "from keras import Sequential\n",
        "from keras.layers import Embedding, LSTM, Dense, Dropout\n",
        "\n",
        "vocabLen = len(wordVocab) + 1\n",
        "\n",
        "model = Sequential()\n",
        "model.add(Embedding(vocabLen, 100, input_length=12))\n",
        "model.add(Dense(100))\n",
        "model.add(LSTM(100))\n",
        "model.add(Dropout(0.2))\n",
        "model.add(Dense(vocabLen, activation=\"softmax\"))\n",
        "\n",
        "model.compile(loss=\"categorical_crossentropy\", optimizer=\"adam\", metrics=['accuracy'])"
      ],
      "metadata": {
        "id": "xbfihugSRxNe"
      },
      "execution_count": 27,
      "outputs": []
    },
    {
      "cell_type": "code",
      "source": [
        "history = model.fit(input_tensor, output_tensor, epochs=100, verbose=1, validation_split=0.2)"
      ],
      "metadata": {
        "id": "JEJzzN0rRzLq"
      },
      "execution_count": null,
      "outputs": []
    },
    {
      "cell_type": "markdown",
      "source": [
        "###Plotting the model performance"
      ],
      "metadata": {
        "id": "xrhC36ykllc-"
      }
    },
    {
      "cell_type": "code",
      "source": [
        "accuracyList = history.history['accuracy']\n",
        "valAccuracyList = history.history['val_accuracy']\n",
        "loss = history.history['loss']\n",
        "valLoss = history.history['val_loss']"
      ],
      "metadata": {
        "id": "k6DmtLjGZVDS"
      },
      "execution_count": 58,
      "outputs": []
    },
    {
      "cell_type": "code",
      "source": [
        "from matplotlib import pyplot as plt\n",
        "\n",
        "plt.plot(accuracyList)\n",
        "plt.plot(valAccuracyList)\n",
        "plt.plot(loss)\n",
        "plt.plot(valLoss)\n",
        "plt.legend(['Accuracy', 'Val Accuracy', 'Loss', 'Val Loss'])\n",
        "plt.show()"
      ],
      "metadata": {
        "colab": {
          "base_uri": "https://localhost:8080/",
          "height": 430
        },
        "id": "0OkdbHzul_l1",
        "outputId": "73dd64f5-ff42-4c47-8c90-33aee0812ccd"
      },
      "execution_count": 59,
      "outputs": [
        {
          "output_type": "display_data",
          "data": {
            "text/plain": [
              "<Figure size 640x480 with 1 Axes>"
            ],
            "image/png": "[encoded data removed]"
          },
          "metadata": {}
        }
      ]
    },
    {
      "cell_type": "markdown",
      "source": [
        "###Prediction Part"
      ],
      "metadata": {
        "id": "PNlMav0AmixC"
      }
    },
    {
      "cell_type": "code",
      "source": [
        "def get_padded_seqeunce(seed_text):\n",
        "  # cleaning the sentence\n",
        "  sentence = seed_text.translate(str.maketrans('', '', string.punctuation))\n",
        "  sentence = ' '.join(sentence.split())\n",
        "  #generate sequence of known words in the vocabulary\n",
        "  sentence_sequence = tokenizer.texts_to_sequences([sentence])[0]\n",
        "  maxLengthDataSequence = max([len(sequence) for sequence in data_sequence])\n",
        "  padding_size = maxLengthDataSequence - len(sentence_sequence) - 1\n",
        "  padding = [0] * padding_size\n",
        "  sentence_sequence[:0] = padding\n",
        "  return sentence_sequence\n"
      ],
      "metadata": {
        "id": "Oik1d1HKTLPC"
      },
      "execution_count": 42,
      "outputs": []
    },
    {
      "cell_type": "code",
      "source": [
        "def generate_headline(seed_text, lengthOfNews, model):\n",
        "\n",
        "  while len(seed_text.split(' ')) < lengthOfNews:\n",
        "    textPaddedSequence = get_padded_seqeunce(seed_text)\n",
        "    predictedIndex = np.argmax(model.predict([textPaddedSequence], verbose=0))\n",
        "    for word, index in wordVocab.items():\n",
        "      if index == predictedIndex:\n",
        "        seed_text += \" \" + word\n",
        "\n",
        "  return seed_text\n",
        "\n",
        "\n",
        "\n",
        "\n",
        "\n",
        "\n"
      ],
      "metadata": {
        "id": "CIqftLKpR5J-"
      },
      "execution_count": 68,
      "outputs": []
    },
    {
      "cell_type": "code",
      "source": [
        "generate_headline('शरणार्थीको विषय जनता', 10, model)"
      ],
      "metadata": {
        "colab": {
          "base_uri": "https://localhost:8080/",
          "height": 35
        },
        "id": "8ALWTtbDUYMh",
        "outputId": "fdc4e09b-9a04-4979-a246-e730da5f5df2"
      },
      "execution_count": 69,
      "outputs": [
        {
          "output_type": "execute_result",
          "data": {
            "text/plain": [
              "'शरणार्थीको विषय जनता स्थानीय तहबाटै सरकारी सेवा अनलाइनमार्फत प्रवाह गरिने'"
            ],
            "application/vnd.google.colaboratory.intrinsic+json": {
              "type": "string"
            }
          },
          "metadata": {},
          "execution_count": 69
        }
      ]
    },
    {
      "cell_type": "markdown",
      "source": [
        "###Saving the model part"
      ],
      "metadata": {
        "id": "Jlml8s-imtIN"
      }
    },
    {
      "cell_type": "code",
      "source": [
        "pwd"
      ],
      "metadata": {
        "colab": {
          "base_uri": "https://localhost:8080/",
          "height": 35
        },
        "id": "Lc3JoBAqU0wg",
        "outputId": "1da6c258-cc63-4f49-ed2a-709ca9239ca8"
      },
      "execution_count": 60,
      "outputs": [
        {
          "output_type": "execute_result",
          "data": {
            "text/plain": [
              "'/content'"
            ],
            "application/vnd.google.colaboratory.intrinsic+json": {
              "type": "string"
            }
          },
          "metadata": {},
          "execution_count": 60
        }
      ]
    },
    {
      "cell_type": "code",
      "source": [
        "model.save('/content/nepali_news_headline_model.hdf5')"
      ],
      "metadata": {
        "id": "aL5zq6TUnL8U"
      },
      "execution_count": 61,
      "outputs": []
    },
    {
      "cell_type": "code",
      "source": [
        "loaded_model = tf.keras.models.load_model('/content/nepali_news_headline_model.hdf5')\n",
        "loaded_model.summary()"
      ],
      "metadata": {
        "colab": {
          "base_uri": "https://localhost:8080/"
        },
        "id": "sz7JfRdsn8dw",
        "outputId": "a8320181-ba80-4c76-d521-e768a05e21db"
      },
      "execution_count": 65,
      "outputs": [
        {
          "output_type": "stream",
          "name": "stdout",
          "text": [
            "Model: \"sequential_1\"\n",
            "_________________________________________________________________\n",
            " Layer (type)                Output Shape              Param #   \n",
            "=================================================================\n",
            " embedding_1 (Embedding)     (None, 12, 100)           17700     \n",
            "                                                                 \n",
            " dense_2 (Dense)             (None, 12, 100)           10100     \n",
            "                                                                 \n",
            " lstm_1 (LSTM)               (None, 100)               80400     \n",
            "                                                                 \n",
            " dropout_1 (Dropout)         (None, 100)               0         \n",
            "                                                                 \n",
            " dense_3 (Dense)             (None, 177)               17877     \n",
            "                                                                 \n",
            "=================================================================\n",
            "Total params: 126,077\n",
            "Trainable params: 126,077\n",
            "Non-trainable params: 0\n",
            "_________________________________________________________________\n"
          ]
        }
      ]
    },
    {
      "cell_type": "markdown",
      "source": [
        "### Now predictin with the help of loaded model"
      ],
      "metadata": {
        "id": "zSChXsZ_oKl2"
      }
    },
    {
      "cell_type": "code",
      "source": [
        "paddedSequence = get_padded_seqeunce('काम नगर्ने ठेकेदारलाई')\n",
        "predictedIndex = np.argmax(loaded_model.predict([paddedSequence], verbose=0))\n",
        "predictedIndex"
      ],
      "metadata": {
        "colab": {
          "base_uri": "https://localhost:8080/"
        },
        "id": "rEKv9i8yn-mN",
        "outputId": "02483f38-6291-4202-8781-36cf6217a692"
      },
      "execution_count": 71,
      "outputs": [
        {
          "output_type": "execute_result",
          "data": {
            "text/plain": [
              "146"
            ]
          },
          "metadata": {},
          "execution_count": 71
        }
      ]
    },
    {
      "cell_type": "code",
      "source": [
        "generate_headline('काम नगर्ने ठेकेदारलाई', 10, loaded_model)"
      ],
      "metadata": {
        "colab": {
          "base_uri": "https://localhost:8080/",
          "height": 35
        },
        "id": "0BzkxH1Do5Jz",
        "outputId": "5c9c40e9-47d9-4cec-f762-838cd27179e0"
      },
      "execution_count": 72,
      "outputs": [
        {
          "output_type": "execute_result",
          "data": {
            "text/plain": [
              "'काम नगर्ने ठेकेदारलाई दुई सिफ्टमा गराइने गराइने गराइने गराइने आविष्कार'"
            ],
            "application/vnd.google.colaboratory.intrinsic+json": {
              "type": "string"
            }
          },
          "metadata": {},
          "execution_count": 72
        }
      ]
    }
  ],
  "metadata": {
    "colab": {
      "provenance": [],
      "authorship_tag": "ABX9TyNjTnD3tnGWZXFMJRhAMezn",
      "include_colab_link": true
    },
    "kernelspec": {
      "display_name": "Python 3",
      "name": "python3"
    },
    "language_info": {
      "name": "python"
    }
  },
  "nbformat": 4,
  "nbformat_minor": 0
}