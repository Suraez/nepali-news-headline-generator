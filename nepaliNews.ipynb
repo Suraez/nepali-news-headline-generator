{
  "cells": [
    {
      "cell_type": "markdown",
      "metadata": {
        "id": "view-in-github",
        "colab_type": "text"
      },
      "source": [
        "<a href=\"https://colab.research.google.com/github/Suraez/nepali-news-headline-generator/blob/main/nepaliNews.ipynb\" target=\"_parent\"><img src=\"https://colab.research.google.com/assets/colab-badge.svg\" alt=\"Open In Colab\"/></a>"
      ]
    },
    {
      "cell_type": "code",
      "execution_count": 3,
      "metadata": {
        "id": "xhxllZU2TARA"
      },
      "outputs": [],
      "source": [
        "import pickle\n",
        "def load_headline_from_file():\n",
        "    with open('/content/output.pkl', 'rb') as file:\n",
        "        lst = pickle.load(file)\n",
        "    return lst"
      ]
    },
    {
      "cell_type": "code",
      "execution_count": null,
      "metadata": {
        "id": "ggE-O-L1TTto"
      },
      "outputs": [],
      "source": [
        "headlineList = load_headline_from_file()\n",
        "print('\\n'.join([headline for headline in headlineList]))"
      ]
    },
    {
      "cell_type": "code",
      "execution_count": 5,
      "metadata": {
        "id": "2K-DCyfdUro6"
      },
      "outputs": [],
      "source": [
        "def view_dataset(dataset):\n",
        "  print('\\n'.join([headline for headline in dataset]))"
      ]
    },
    {
      "cell_type": "code",
      "execution_count": 6,
      "metadata": {
        "colab": {
          "base_uri": "https://localhost:8080/",
          "height": 35
        },
        "id": "8XXVopjoTbCP",
        "outputId": "669bd261-7e05-4ac3-a621-260110c1648c"
      },
      "outputs": [
        {
          "output_type": "execute_result",
          "data": {
            "text/plain": [
              "'विज्ञान नसमेटिएको नीति तथा कार्यक्रम'"
            ],
            "application/vnd.google.colaboratory.intrinsic+json": {
              "type": "string"
            }
          },
          "metadata": {},
          "execution_count": 6
        }
      ],
      "source": [
        "headlineList[0]"
      ]
    },
    {
      "cell_type": "code",
      "execution_count": 7,
      "metadata": {
        "id": "X9FvQw_aT1v2"
      },
      "outputs": [],
      "source": [
        "import string\n",
        "def clean_dataset():\n",
        "    processed_sentences = []\n",
        "    for sentence in headlineList:\n",
        "        # Remove punctuation\n",
        "        sentence = sentence.translate(str.maketrans('', '', string.punctuation))\n",
        "        # Remove double spaces\n",
        "        sentence = ' '.join(sentence.split())\n",
        "        processed_sentences.append(sentence)\n",
        "    return processed_sentences"
      ]
    },
    {
      "cell_type": "code",
      "execution_count": 8,
      "metadata": {
        "id": "aUpaZ-ydUcJu"
      },
      "outputs": [],
      "source": [
        "cleanedHeadlines = clean_dataset()"
      ]
    },
    {
      "cell_type": "code",
      "execution_count": null,
      "metadata": {
        "id": "GwXs1SbCUhMr"
      },
      "outputs": [],
      "source": [
        "view_dataset(cleanedHeadlines)"
      ]
    },
    {
      "cell_type": "code",
      "execution_count": 10,
      "metadata": {
        "id": "A154G4ZuUkoc"
      },
      "outputs": [],
      "source": [
        "from keras.preprocessing.text import Tokenizer\n",
        "\n",
        "tokenizer = Tokenizer()"
      ]
    },
    {
      "cell_type": "code",
      "execution_count": 11,
      "metadata": {
        "id": "x_-c1PQeVaaz"
      },
      "outputs": [],
      "source": [
        "tokenizer.fit_on_texts(cleanedHeadlines)"
      ]
    },
    {
      "cell_type": "code",
      "execution_count": 12,
      "metadata": {
        "id": "eDcOelQjVvcK"
      },
      "outputs": [],
      "source": [
        "wordVocab = tokenizer.word_index"
      ]
    },
    {
      "cell_type": "code",
      "source": [
        "def create_data_sequence():\n",
        "  data_sequence=[]\n",
        "  for headline in cleanedHeadlines:\n",
        "    tempSequence = tokenizer.texts_to_sequences([headline])[0]\n",
        "    for i in range(1, len(tempSequence)):\n",
        "      data_sequence.append(tempSequence[:i+1])\n",
        "\n",
        "  return data_sequence"
      ],
      "metadata": {
        "id": "W_zmX4E3RSMz"
      },
      "execution_count": 13,
      "outputs": []
    },
    {
      "cell_type": "code",
      "source": [
        "data_sequence = create_data_sequence()"
      ],
      "metadata": {
        "id": "fdtnw8t2RUEV"
      },
      "execution_count": 14,
      "outputs": []
    },
    {
      "cell_type": "code",
      "source": [
        "def pad_data_sequence():\n",
        "  maxLengthDataSequence = max([len(sequence) for sequence in data_sequence])\n",
        "  for sequence in data_sequence:\n",
        "    padding_size = maxLengthDataSequence - len(sequence)\n",
        "    padding = [0] * padding_size\n",
        "    sequence[:0] = padding\n"
      ],
      "metadata": {
        "id": "2k8N6dJ_RUmE"
      },
      "execution_count": 15,
      "outputs": []
    },
    {
      "cell_type": "code",
      "source": [
        "pad_data_sequence()"
      ],
      "metadata": {
        "id": "SjWvfFz9RWEG"
      },
      "execution_count": 16,
      "outputs": []
    },
    {
      "cell_type": "code",
      "source": [
        "import numpy as np\n",
        "\n",
        "input_output_tensor = np.array(data_sequence)\n",
        "print(input_output_tensor.shape)"
      ],
      "metadata": {
        "colab": {
          "base_uri": "https://localhost:8080/"
        },
        "id": "5LFzCo2wRZ3k",
        "outputId": "eba52c8d-7f74-40d1-c838-7350c124cdbe"
      },
      "execution_count": 17,
      "outputs": [
        {
          "output_type": "stream",
          "name": "stdout",
          "text": [
            "(113, 12)\n"
          ]
        }
      ]
    },
    {
      "cell_type": "code",
      "source": [
        "input_tensor = input_output_tensor[:, :-1]\n",
        "output_tensor = input_output_tensor[:,-1]"
      ],
      "metadata": {
        "id": "n2UyDDbERcN0"
      },
      "execution_count": 18,
      "outputs": []
    },
    {
      "cell_type": "code",
      "source": [
        "input_tensor.shape"
      ],
      "metadata": {
        "colab": {
          "base_uri": "https://localhost:8080/"
        },
        "id": "ZufloCEbRd3a",
        "outputId": "c883e6d6-7a7d-41cd-968d-bb6b2c4fac07"
      },
      "execution_count": 19,
      "outputs": [
        {
          "output_type": "execute_result",
          "data": {
            "text/plain": [
              "(113, 11)"
            ]
          },
          "metadata": {},
          "execution_count": 19
        }
      ]
    },
    {
      "cell_type": "code",
      "source": [
        "output_tensor.shape"
      ],
      "metadata": {
        "colab": {
          "base_uri": "https://localhost:8080/"
        },
        "id": "Oz3X_OtRRkMF",
        "outputId": "d9bfb8a4-87bf-4ab5-ced7-8fb21c6b8bf5"
      },
      "execution_count": 20,
      "outputs": [
        {
          "output_type": "execute_result",
          "data": {
            "text/plain": [
              "(113,)"
            ]
          },
          "metadata": {},
          "execution_count": 20
        }
      ]
    },
    {
      "cell_type": "code",
      "source": [
        "output_tensor"
      ],
      "metadata": {
        "id": "3Btr2JMKRkme",
        "colab": {
          "base_uri": "https://localhost:8080/"
        },
        "outputId": "b06962b9-12b1-4aec-a03e-e37a5e40d245"
      },
      "execution_count": 21,
      "outputs": [
        {
          "output_type": "execute_result",
          "data": {
            "text/plain": [
              "array([ 10,   1,   5,   2,   3,  12,  13,   1,   2,  15,  16,  17,  18,\n",
              "        19,  20,  21,  22,  23,  24,  26,  27,  28,  29,  30,  31,  32,\n",
              "        33,  35,  36,  37,  38,  39,  41,  42,  43,  44,  45,  46,  48,\n",
              "        49,  50,  51,  52,  53,   4,  55,   3,  56,  57,  58,  60,  61,\n",
              "        62,   6,  63,  64,  65,  66,  67,  69,  70,  71,  72,  73,   7,\n",
              "        74,  76,  77,  78,  79,  80,   6,   4,  82,  83,  84,  85,  86,\n",
              "        87,  88,  89,  90,  91,   4,  93,  94,   3,  95,  96,  97,  98,\n",
              "        99, 100, 101,   7,   5,   2, 102, 103, 104, 106, 107, 108, 109,\n",
              "       110, 111,   8, 113, 114,   8, 115, 117, 118])"
            ]
          },
          "metadata": {},
          "execution_count": 21
        }
      ]
    },
    {
      "cell_type": "code",
      "source": [
        "import tensorflow as tf\n",
        "output_tensor = tf.keras.utils.to_categorical(output_tensor, len(wordVocab) + 1)"
      ],
      "metadata": {
        "id": "95MgMqJaRnaP"
      },
      "execution_count": 22,
      "outputs": []
    },
    {
      "cell_type": "code",
      "source": [
        "input_tensor.shape"
      ],
      "metadata": {
        "colab": {
          "base_uri": "https://localhost:8080/"
        },
        "id": "eTbhkWm1Rp2k",
        "outputId": "5202a9f5-50ec-4c32-db20-a76ae4eab1a0"
      },
      "execution_count": 23,
      "outputs": [
        {
          "output_type": "execute_result",
          "data": {
            "text/plain": [
              "(113, 11)"
            ]
          },
          "metadata": {},
          "execution_count": 23
        }
      ]
    },
    {
      "cell_type": "code",
      "source": [
        "from keras import Sequential\n",
        "from keras.layers import Embedding, LSTM, Dense, Dropout\n",
        "\n",
        "vocabLen = len(wordVocab) + 1\n",
        "\n",
        "model = Sequential()\n",
        "model.add(Embedding(vocabLen, 100, input_length=11))\n",
        "model.add(Dense(100))\n",
        "model.add(LSTM(100))\n",
        "model.add(Dropout(0.2))\n",
        "model.add(Dense(vocabLen, activation=\"softmax\"))\n",
        "\n",
        "model.compile(loss=\"categorical_crossentropy\", optimizer=\"adam\", metrics=['accuracy'])"
      ],
      "metadata": {
        "id": "xbfihugSRxNe"
      },
      "execution_count": 26,
      "outputs": []
    },
    {
      "cell_type": "code",
      "source": [
        "history = model.fit(input_tensor, output_tensor, epochs=100, verbose=1, validation_split=0.2)"
      ],
      "metadata": {
        "id": "JEJzzN0rRzLq",
        "colab": {
          "base_uri": "https://localhost:8080/"
        },
        "outputId": "e05b5cde-8aa4-4f0b-c892-b4763350d4a3"
      },
      "execution_count": 27,
      "outputs": [
        {
          "output_type": "stream",
          "name": "stdout",
          "text": [
            "Epoch 1/100\n",
            "3/3 [==============================] - 4s 351ms/step - loss: 4.7809 - accuracy: 0.0111 - val_loss: 4.7874 - val_accuracy: 0.0000e+00\n",
            "Epoch 2/100\n",
            "3/3 [==============================] - 0s 33ms/step - loss: 4.7685 - accuracy: 0.0667 - val_loss: 4.7914 - val_accuracy: 0.0000e+00\n",
            "Epoch 3/100\n",
            "3/3 [==============================] - 0s 33ms/step - loss: 4.7591 - accuracy: 0.0333 - val_loss: 4.7984 - val_accuracy: 0.0000e+00\n",
            "Epoch 4/100\n",
            "3/3 [==============================] - 0s 36ms/step - loss: 4.7442 - accuracy: 0.0889 - val_loss: 4.8095 - val_accuracy: 0.0000e+00\n",
            "Epoch 5/100\n",
            "3/3 [==============================] - 0s 32ms/step - loss: 4.7259 - accuracy: 0.0222 - val_loss: 4.8323 - val_accuracy: 0.0000e+00\n",
            "Epoch 6/100\n",
            "3/3 [==============================] - 0s 32ms/step - loss: 4.6960 - accuracy: 0.0444 - val_loss: 4.8809 - val_accuracy: 0.0000e+00\n",
            "Epoch 7/100\n",
            "3/3 [==============================] - 0s 34ms/step - loss: 4.6460 - accuracy: 0.0222 - val_loss: 4.9966 - val_accuracy: 0.0000e+00\n",
            "Epoch 8/100\n",
            "3/3 [==============================] - 0s 35ms/step - loss: 4.5835 - accuracy: 0.0222 - val_loss: 5.2617 - val_accuracy: 0.0000e+00\n",
            "Epoch 9/100\n",
            "3/3 [==============================] - 0s 41ms/step - loss: 4.5460 - accuracy: 0.0333 - val_loss: 5.5550 - val_accuracy: 0.0000e+00\n",
            "Epoch 10/100\n",
            "3/3 [==============================] - 0s 40ms/step - loss: 4.4819 - accuracy: 0.0222 - val_loss: 5.6971 - val_accuracy: 0.0000e+00\n",
            "Epoch 11/100\n",
            "3/3 [==============================] - 0s 32ms/step - loss: 4.4448 - accuracy: 0.0222 - val_loss: 5.7445 - val_accuracy: 0.0000e+00\n",
            "Epoch 12/100\n",
            "3/3 [==============================] - 0s 36ms/step - loss: 4.3743 - accuracy: 0.0444 - val_loss: 5.7779 - val_accuracy: 0.0000e+00\n",
            "Epoch 13/100\n",
            "3/3 [==============================] - 0s 34ms/step - loss: 4.3572 - accuracy: 0.0556 - val_loss: 5.8822 - val_accuracy: 0.0000e+00\n",
            "Epoch 14/100\n",
            "3/3 [==============================] - 0s 37ms/step - loss: 4.2953 - accuracy: 0.0556 - val_loss: 6.0768 - val_accuracy: 0.0000e+00\n",
            "Epoch 15/100\n",
            "3/3 [==============================] - 0s 40ms/step - loss: 4.2359 - accuracy: 0.0667 - val_loss: 6.2763 - val_accuracy: 0.0000e+00\n",
            "Epoch 16/100\n",
            "3/3 [==============================] - 0s 32ms/step - loss: 4.1388 - accuracy: 0.0667 - val_loss: 6.3816 - val_accuracy: 0.0000e+00\n",
            "Epoch 17/100\n",
            "3/3 [==============================] - 0s 41ms/step - loss: 4.0153 - accuracy: 0.0778 - val_loss: 6.4247 - val_accuracy: 0.0000e+00\n",
            "Epoch 18/100\n",
            "3/3 [==============================] - 0s 42ms/step - loss: 4.0146 - accuracy: 0.0889 - val_loss: 6.6645 - val_accuracy: 0.0000e+00\n",
            "Epoch 19/100\n",
            "3/3 [==============================] - 0s 35ms/step - loss: 3.8799 - accuracy: 0.0889 - val_loss: 7.0118 - val_accuracy: 0.0000e+00\n",
            "Epoch 20/100\n",
            "3/3 [==============================] - 0s 33ms/step - loss: 3.8601 - accuracy: 0.1111 - val_loss: 7.1026 - val_accuracy: 0.0000e+00\n",
            "Epoch 21/100\n",
            "3/3 [==============================] - 0s 33ms/step - loss: 3.7936 - accuracy: 0.1111 - val_loss: 6.9778 - val_accuracy: 0.0000e+00\n",
            "Epoch 22/100\n",
            "3/3 [==============================] - 0s 32ms/step - loss: 3.6236 - accuracy: 0.1222 - val_loss: 7.0812 - val_accuracy: 0.0000e+00\n",
            "Epoch 23/100\n",
            "3/3 [==============================] - 0s 31ms/step - loss: 3.5023 - accuracy: 0.1556 - val_loss: 7.1151 - val_accuracy: 0.0000e+00\n",
            "Epoch 24/100\n",
            "3/3 [==============================] - 0s 33ms/step - loss: 3.4280 - accuracy: 0.2556 - val_loss: 7.1843 - val_accuracy: 0.0000e+00\n",
            "Epoch 25/100\n",
            "3/3 [==============================] - 0s 40ms/step - loss: 3.2879 - accuracy: 0.1778 - val_loss: 7.2516 - val_accuracy: 0.0000e+00\n",
            "Epoch 26/100\n",
            "3/3 [==============================] - 0s 40ms/step - loss: 3.2814 - accuracy: 0.1556 - val_loss: 7.3700 - val_accuracy: 0.0000e+00\n",
            "Epoch 27/100\n",
            "3/3 [==============================] - 0s 41ms/step - loss: 3.1284 - accuracy: 0.2111 - val_loss: 7.4939 - val_accuracy: 0.0000e+00\n",
            "Epoch 28/100\n",
            "3/3 [==============================] - 0s 37ms/step - loss: 3.0366 - accuracy: 0.2444 - val_loss: 7.5300 - val_accuracy: 0.0000e+00\n",
            "Epoch 29/100\n",
            "3/3 [==============================] - 0s 43ms/step - loss: 2.9509 - accuracy: 0.3000 - val_loss: 7.6271 - val_accuracy: 0.0000e+00\n",
            "Epoch 30/100\n",
            "3/3 [==============================] - 0s 39ms/step - loss: 2.8068 - accuracy: 0.3111 - val_loss: 7.7230 - val_accuracy: 0.0000e+00\n",
            "Epoch 31/100\n",
            "3/3 [==============================] - 0s 32ms/step - loss: 2.7411 - accuracy: 0.2889 - val_loss: 7.8945 - val_accuracy: 0.0000e+00\n",
            "Epoch 32/100\n",
            "3/3 [==============================] - 0s 33ms/step - loss: 2.6888 - accuracy: 0.3111 - val_loss: 7.8198 - val_accuracy: 0.0000e+00\n",
            "Epoch 33/100\n",
            "3/3 [==============================] - 0s 40ms/step - loss: 2.5650 - accuracy: 0.3556 - val_loss: 7.6988 - val_accuracy: 0.0000e+00\n",
            "Epoch 34/100\n",
            "3/3 [==============================] - 0s 39ms/step - loss: 2.4846 - accuracy: 0.3667 - val_loss: 7.7681 - val_accuracy: 0.0000e+00\n",
            "Epoch 35/100\n",
            "3/3 [==============================] - 0s 32ms/step - loss: 2.4202 - accuracy: 0.4222 - val_loss: 7.8934 - val_accuracy: 0.0000e+00\n",
            "Epoch 36/100\n",
            "3/3 [==============================] - 0s 41ms/step - loss: 2.3750 - accuracy: 0.3778 - val_loss: 7.8740 - val_accuracy: 0.0000e+00\n",
            "Epoch 37/100\n",
            "3/3 [==============================] - 0s 41ms/step - loss: 2.2792 - accuracy: 0.4778 - val_loss: 7.9025 - val_accuracy: 0.0000e+00\n",
            "Epoch 38/100\n",
            "3/3 [==============================] - 0s 42ms/step - loss: 2.1766 - accuracy: 0.5000 - val_loss: 7.9600 - val_accuracy: 0.0000e+00\n",
            "Epoch 39/100\n",
            "3/3 [==============================] - 0s 31ms/step - loss: 2.0840 - accuracy: 0.5889 - val_loss: 7.8451 - val_accuracy: 0.0000e+00\n",
            "Epoch 40/100\n",
            "3/3 [==============================] - 0s 32ms/step - loss: 2.0660 - accuracy: 0.5778 - val_loss: 7.9703 - val_accuracy: 0.0000e+00\n",
            "Epoch 41/100\n",
            "3/3 [==============================] - 0s 32ms/step - loss: 1.9719 - accuracy: 0.5333 - val_loss: 8.0095 - val_accuracy: 0.0000e+00\n",
            "Epoch 42/100\n",
            "3/3 [==============================] - 0s 39ms/step - loss: 1.8654 - accuracy: 0.6222 - val_loss: 8.0600 - val_accuracy: 0.0000e+00\n",
            "Epoch 43/100\n",
            "3/3 [==============================] - 0s 41ms/step - loss: 1.8631 - accuracy: 0.6667 - val_loss: 8.0694 - val_accuracy: 0.0000e+00\n",
            "Epoch 44/100\n",
            "3/3 [==============================] - 0s 32ms/step - loss: 1.7601 - accuracy: 0.6778 - val_loss: 8.1501 - val_accuracy: 0.0000e+00\n",
            "Epoch 45/100\n",
            "3/3 [==============================] - 0s 40ms/step - loss: 1.7150 - accuracy: 0.6556 - val_loss: 8.1867 - val_accuracy: 0.0000e+00\n",
            "Epoch 46/100\n",
            "3/3 [==============================] - 0s 39ms/step - loss: 1.6887 - accuracy: 0.6333 - val_loss: 8.0884 - val_accuracy: 0.0000e+00\n",
            "Epoch 47/100\n",
            "3/3 [==============================] - 0s 41ms/step - loss: 1.6151 - accuracy: 0.7333 - val_loss: 8.1983 - val_accuracy: 0.0000e+00\n",
            "Epoch 48/100\n",
            "3/3 [==============================] - 0s 40ms/step - loss: 1.5917 - accuracy: 0.7000 - val_loss: 8.1907 - val_accuracy: 0.0000e+00\n",
            "Epoch 49/100\n",
            "3/3 [==============================] - 0s 33ms/step - loss: 1.5048 - accuracy: 0.7667 - val_loss: 8.0701 - val_accuracy: 0.0000e+00\n",
            "Epoch 50/100\n",
            "3/3 [==============================] - 0s 39ms/step - loss: 1.4699 - accuracy: 0.7778 - val_loss: 8.0248 - val_accuracy: 0.0000e+00\n",
            "Epoch 51/100\n",
            "3/3 [==============================] - 0s 32ms/step - loss: 1.4689 - accuracy: 0.7556 - val_loss: 8.2146 - val_accuracy: 0.0000e+00\n",
            "Epoch 52/100\n",
            "3/3 [==============================] - 0s 33ms/step - loss: 1.4905 - accuracy: 0.7111 - val_loss: 8.2726 - val_accuracy: 0.0000e+00\n",
            "Epoch 53/100\n",
            "3/3 [==============================] - 0s 43ms/step - loss: 1.3354 - accuracy: 0.8333 - val_loss: 8.1559 - val_accuracy: 0.0000e+00\n",
            "Epoch 54/100\n",
            "3/3 [==============================] - 0s 33ms/step - loss: 1.3640 - accuracy: 0.8444 - val_loss: 8.0960 - val_accuracy: 0.0000e+00\n",
            "Epoch 55/100\n",
            "3/3 [==============================] - 0s 32ms/step - loss: 1.3275 - accuracy: 0.7778 - val_loss: 8.1843 - val_accuracy: 0.0000e+00\n",
            "Epoch 56/100\n",
            "3/3 [==============================] - 0s 39ms/step - loss: 1.2380 - accuracy: 0.8778 - val_loss: 8.2773 - val_accuracy: 0.0000e+00\n",
            "Epoch 57/100\n",
            "3/3 [==============================] - 0s 39ms/step - loss: 1.2188 - accuracy: 0.8333 - val_loss: 8.3613 - val_accuracy: 0.0000e+00\n",
            "Epoch 58/100\n",
            "3/3 [==============================] - 0s 40ms/step - loss: 1.2266 - accuracy: 0.8111 - val_loss: 8.3144 - val_accuracy: 0.0000e+00\n",
            "Epoch 59/100\n",
            "3/3 [==============================] - 0s 46ms/step - loss: 1.1927 - accuracy: 0.8000 - val_loss: 8.2243 - val_accuracy: 0.0000e+00\n",
            "Epoch 60/100\n",
            "3/3 [==============================] - 0s 32ms/step - loss: 1.1381 - accuracy: 0.8111 - val_loss: 8.2280 - val_accuracy: 0.0000e+00\n",
            "Epoch 61/100\n",
            "3/3 [==============================] - 0s 34ms/step - loss: 1.0685 - accuracy: 0.8889 - val_loss: 8.3103 - val_accuracy: 0.0000e+00\n",
            "Epoch 62/100\n",
            "3/3 [==============================] - 0s 33ms/step - loss: 1.0309 - accuracy: 0.9111 - val_loss: 8.3397 - val_accuracy: 0.0000e+00\n",
            "Epoch 63/100\n",
            "3/3 [==============================] - 0s 44ms/step - loss: 1.0266 - accuracy: 0.9111 - val_loss: 8.3222 - val_accuracy: 0.0000e+00\n",
            "Epoch 64/100\n",
            "3/3 [==============================] - 0s 41ms/step - loss: 0.9912 - accuracy: 0.8889 - val_loss: 8.3166 - val_accuracy: 0.0000e+00\n",
            "Epoch 65/100\n",
            "3/3 [==============================] - 0s 42ms/step - loss: 1.0015 - accuracy: 0.8667 - val_loss: 8.3066 - val_accuracy: 0.0000e+00\n",
            "Epoch 66/100\n",
            "3/3 [==============================] - 0s 32ms/step - loss: 0.9277 - accuracy: 0.9111 - val_loss: 8.2969 - val_accuracy: 0.0000e+00\n",
            "Epoch 67/100\n",
            "3/3 [==============================] - 0s 33ms/step - loss: 0.9096 - accuracy: 0.9000 - val_loss: 8.3786 - val_accuracy: 0.0000e+00\n",
            "Epoch 68/100\n",
            "3/3 [==============================] - 0s 40ms/step - loss: 0.8741 - accuracy: 0.9111 - val_loss: 8.4124 - val_accuracy: 0.0000e+00\n",
            "Epoch 69/100\n",
            "3/3 [==============================] - 0s 37ms/step - loss: 0.8513 - accuracy: 0.9111 - val_loss: 8.3855 - val_accuracy: 0.0000e+00\n",
            "Epoch 70/100\n",
            "3/3 [==============================] - 0s 32ms/step - loss: 0.8254 - accuracy: 0.9667 - val_loss: 8.4445 - val_accuracy: 0.0000e+00\n",
            "Epoch 71/100\n",
            "3/3 [==============================] - 0s 33ms/step - loss: 0.8737 - accuracy: 0.9111 - val_loss: 8.3542 - val_accuracy: 0.0000e+00\n",
            "Epoch 72/100\n",
            "3/3 [==============================] - 0s 34ms/step - loss: 0.7815 - accuracy: 0.9667 - val_loss: 8.4070 - val_accuracy: 0.0000e+00\n",
            "Epoch 73/100\n",
            "3/3 [==============================] - 0s 39ms/step - loss: 0.7419 - accuracy: 0.9778 - val_loss: 8.4897 - val_accuracy: 0.0000e+00\n",
            "Epoch 74/100\n",
            "3/3 [==============================] - 0s 36ms/step - loss: 0.8083 - accuracy: 0.9667 - val_loss: 8.4408 - val_accuracy: 0.0000e+00\n",
            "Epoch 75/100\n",
            "3/3 [==============================] - 0s 32ms/step - loss: 0.7548 - accuracy: 0.9444 - val_loss: 8.3461 - val_accuracy: 0.0000e+00\n",
            "Epoch 76/100\n",
            "3/3 [==============================] - 0s 40ms/step - loss: 0.7222 - accuracy: 0.9444 - val_loss: 8.4154 - val_accuracy: 0.0000e+00\n",
            "Epoch 77/100\n",
            "3/3 [==============================] - 0s 43ms/step - loss: 0.7028 - accuracy: 0.9889 - val_loss: 8.4480 - val_accuracy: 0.0000e+00\n",
            "Epoch 78/100\n",
            "3/3 [==============================] - 0s 58ms/step - loss: 0.7401 - accuracy: 0.9444 - val_loss: 8.4498 - val_accuracy: 0.0000e+00\n",
            "Epoch 79/100\n",
            "3/3 [==============================] - 0s 58ms/step - loss: 0.6885 - accuracy: 0.9667 - val_loss: 8.5153 - val_accuracy: 0.0000e+00\n",
            "Epoch 80/100\n",
            "3/3 [==============================] - 0s 59ms/step - loss: 0.6370 - accuracy: 0.9667 - val_loss: 8.4965 - val_accuracy: 0.0000e+00\n",
            "Epoch 81/100\n",
            "3/3 [==============================] - 0s 53ms/step - loss: 0.6312 - accuracy: 0.9889 - val_loss: 8.4369 - val_accuracy: 0.0000e+00\n",
            "Epoch 82/100\n",
            "3/3 [==============================] - 0s 59ms/step - loss: 0.5957 - accuracy: 0.9889 - val_loss: 8.5731 - val_accuracy: 0.0000e+00\n",
            "Epoch 83/100\n",
            "3/3 [==============================] - 0s 57ms/step - loss: 0.6108 - accuracy: 0.9889 - val_loss: 8.5909 - val_accuracy: 0.0000e+00\n",
            "Epoch 84/100\n",
            "3/3 [==============================] - 0s 57ms/step - loss: 0.5801 - accuracy: 0.9889 - val_loss: 8.4265 - val_accuracy: 0.0000e+00\n",
            "Epoch 85/100\n",
            "3/3 [==============================] - 0s 59ms/step - loss: 0.6156 - accuracy: 0.9889 - val_loss: 8.4808 - val_accuracy: 0.0000e+00\n",
            "Epoch 86/100\n",
            "3/3 [==============================] - 0s 59ms/step - loss: 0.5825 - accuracy: 0.9889 - val_loss: 8.4487 - val_accuracy: 0.0000e+00\n",
            "Epoch 87/100\n",
            "3/3 [==============================] - 0s 61ms/step - loss: 0.5891 - accuracy: 0.9667 - val_loss: 8.3802 - val_accuracy: 0.0000e+00\n",
            "Epoch 88/100\n",
            "3/3 [==============================] - 0s 61ms/step - loss: 0.4979 - accuracy: 0.9889 - val_loss: 8.5476 - val_accuracy: 0.0000e+00\n",
            "Epoch 89/100\n",
            "3/3 [==============================] - 0s 58ms/step - loss: 0.5134 - accuracy: 0.9889 - val_loss: 8.5433 - val_accuracy: 0.0000e+00\n",
            "Epoch 90/100\n",
            "3/3 [==============================] - 0s 55ms/step - loss: 0.4983 - accuracy: 1.0000 - val_loss: 8.4897 - val_accuracy: 0.0000e+00\n",
            "Epoch 91/100\n",
            "3/3 [==============================] - 0s 59ms/step - loss: 0.4948 - accuracy: 0.9889 - val_loss: 8.5691 - val_accuracy: 0.0000e+00\n",
            "Epoch 92/100\n",
            "3/3 [==============================] - 0s 64ms/step - loss: 0.5107 - accuracy: 0.9889 - val_loss: 8.4967 - val_accuracy: 0.0000e+00\n",
            "Epoch 93/100\n",
            "3/3 [==============================] - 0s 61ms/step - loss: 0.4674 - accuracy: 1.0000 - val_loss: 8.5773 - val_accuracy: 0.0000e+00\n",
            "Epoch 94/100\n",
            "3/3 [==============================] - 0s 61ms/step - loss: 0.4831 - accuracy: 1.0000 - val_loss: 8.5871 - val_accuracy: 0.0000e+00\n",
            "Epoch 95/100\n",
            "3/3 [==============================] - 0s 59ms/step - loss: 0.4657 - accuracy: 0.9778 - val_loss: 8.5255 - val_accuracy: 0.0000e+00\n",
            "Epoch 96/100\n",
            "3/3 [==============================] - 0s 54ms/step - loss: 0.4710 - accuracy: 1.0000 - val_loss: 8.5977 - val_accuracy: 0.0000e+00\n",
            "Epoch 97/100\n",
            "3/3 [==============================] - 0s 41ms/step - loss: 0.4277 - accuracy: 1.0000 - val_loss: 8.6667 - val_accuracy: 0.0000e+00\n",
            "Epoch 98/100\n",
            "3/3 [==============================] - 0s 33ms/step - loss: 0.4165 - accuracy: 1.0000 - val_loss: 8.5534 - val_accuracy: 0.0000e+00\n",
            "Epoch 99/100\n",
            "3/3 [==============================] - 0s 33ms/step - loss: 0.3764 - accuracy: 1.0000 - val_loss: 8.6134 - val_accuracy: 0.0000e+00\n",
            "Epoch 100/100\n",
            "3/3 [==============================] - 0s 45ms/step - loss: 0.4187 - accuracy: 1.0000 - val_loss: 8.6558 - val_accuracy: 0.0000e+00\n"
          ]
        }
      ]
    },
    {
      "cell_type": "markdown",
      "source": [
        "###Plotting the model performance"
      ],
      "metadata": {
        "id": "xrhC36ykllc-"
      }
    },
    {
      "cell_type": "code",
      "source": [
        "accuracyList = history.history['accuracy']\n",
        "valAccuracyList = history.history['val_accuracy']\n",
        "loss = history.history['loss']\n",
        "valLoss = history.history['val_loss']"
      ],
      "metadata": {
        "id": "k6DmtLjGZVDS"
      },
      "execution_count": 28,
      "outputs": []
    },
    {
      "cell_type": "code",
      "source": [
        "from matplotlib import pyplot as plt\n",
        "\n",
        "plt.plot(accuracyList)\n",
        "plt.plot(valAccuracyList)\n",
        "plt.plot(loss)\n",
        "plt.plot(valLoss)\n",
        "plt.legend(['Accuracy', 'Val Accuracy', 'Loss', 'Val Loss'])\n",
        "plt.show()"
      ],
      "metadata": {
        "colab": {
          "base_uri": "https://localhost:8080/",
          "height": 430
        },
        "id": "0OkdbHzul_l1",
        "outputId": "9ac9374f-84dd-4865-fe57-ef074100f400"
      },
      "execution_count": 29,
      "outputs": [
        {
          "output_type": "display_data",
          "data": {
            "text/plain": [
              "<Figure size 640x480 with 1 Axes>"
            ],
            "image/png": "[encoded data removed]"
          },
          "metadata": {}
        }
      ]
    },
    {
      "cell_type": "markdown",
      "source": [
        "###Prediction Part"
      ],
      "metadata": {
        "id": "PNlMav0AmixC"
      }
    },
    {
      "cell_type": "code",
      "source": [
        "def get_padded_seqeunce(seed_text):\n",
        "  # cleaning the sentence\n",
        "  sentence = seed_text.translate(str.maketrans('', '', string.punctuation))\n",
        "  sentence = ' '.join(sentence.split())\n",
        "  #generate sequence of known words in the vocabulary\n",
        "  sentence_sequence = tokenizer.texts_to_sequences([sentence])[0]\n",
        "  maxLengthDataSequence = max([len(sequence) for sequence in data_sequence])\n",
        "  padding_size = maxLengthDataSequence - len(sentence_sequence) - 1\n",
        "  padding = [0] * padding_size\n",
        "  sentence_sequence[:0] = padding\n",
        "  return sentence_sequence\n"
      ],
      "metadata": {
        "id": "Oik1d1HKTLPC"
      },
      "execution_count": 30,
      "outputs": []
    },
    {
      "cell_type": "code",
      "source": [
        "def generate_headline(seed_text, lengthOfNews, model):\n",
        "\n",
        "  while len(seed_text.split(' ')) < lengthOfNews:\n",
        "    textPaddedSequence = get_padded_seqeunce(seed_text)\n",
        "    predictedIndex = np.argmax(model.predict([textPaddedSequence], verbose=0))\n",
        "    for word, index in wordVocab.items():\n",
        "      if index == predictedIndex:\n",
        "        seed_text += \" \" + word\n",
        "\n",
        "  return seed_text\n",
        "\n",
        "\n",
        "\n",
        "\n",
        "\n",
        "\n"
      ],
      "metadata": {
        "id": "CIqftLKpR5J-"
      },
      "execution_count": 31,
      "outputs": []
    },
    {
      "cell_type": "code",
      "source": [
        "generate_headline('शरणार्थीको विषय जनता', 10, model)"
      ],
      "metadata": {
        "colab": {
          "base_uri": "https://localhost:8080/",
          "height": 35
        },
        "id": "8ALWTtbDUYMh",
        "outputId": "46e399e9-d0f6-488a-adf1-400269cdfded"
      },
      "execution_count": 32,
      "outputs": [
        {
          "output_type": "execute_result",
          "data": {
            "text/plain": [
              "'शरणार्थीको विषय जनता र विदेशीको चासोमा परिसक्यो परिसक्यो पक्राउ पक्राउ'"
            ],
            "application/vnd.google.colaboratory.intrinsic+json": {
              "type": "string"
            }
          },
          "metadata": {},
          "execution_count": 32
        }
      ]
    },
    {
      "cell_type": "markdown",
      "source": [
        "###Saving the model part"
      ],
      "metadata": {
        "id": "Jlml8s-imtIN"
      }
    },
    {
      "cell_type": "code",
      "source": [
        "pwd"
      ],
      "metadata": {
        "colab": {
          "base_uri": "https://localhost:8080/",
          "height": 35
        },
        "id": "Lc3JoBAqU0wg",
        "outputId": "960c7d75-2c52-44ec-b9fc-5c8feb8e189f"
      },
      "execution_count": 33,
      "outputs": [
        {
          "output_type": "execute_result",
          "data": {
            "text/plain": [
              "'/content'"
            ],
            "application/vnd.google.colaboratory.intrinsic+json": {
              "type": "string"
            }
          },
          "metadata": {},
          "execution_count": 33
        }
      ]
    },
    {
      "cell_type": "code",
      "source": [
        "model.save('/content/1/')"
      ],
      "metadata": {
        "id": "aL5zq6TUnL8U",
        "colab": {
          "base_uri": "https://localhost:8080/"
        },
        "outputId": "347ad23c-4324-4ef4-fb91-89f49b99df29"
      },
      "execution_count": 36,
      "outputs": [
        {
          "output_type": "stream",
          "name": "stderr",
          "text": [
            "WARNING:absl:Found untraced functions such as _update_step_xla, lstm_cell_1_layer_call_fn, lstm_cell_1_layer_call_and_return_conditional_losses while saving (showing 3 of 3). These functions will not be directly callable after loading.\n"
          ]
        }
      ]
    },
    {
      "cell_type": "code",
      "source": [
        "loaded_model = tf.keras.models.load_model('/content/nepali_news_headline_model.hdf5')\n",
        "loaded_model.summary()"
      ],
      "metadata": {
        "id": "sz7JfRdsn8dw"
      },
      "execution_count": null,
      "outputs": []
    },
    {
      "cell_type": "code",
      "source": [
        "!zip -r folder.zip ./*"
      ],
      "metadata": {
        "id": "5L8htKyrn5uW"
      },
      "execution_count": null,
      "outputs": []
    },
    {
      "cell_type": "markdown",
      "source": [
        "### Now predictin with the help of loaded model"
      ],
      "metadata": {
        "id": "zSChXsZ_oKl2"
      }
    },
    {
      "cell_type": "code",
      "source": [
        "paddedSequence = get_padded_seqeunce('काम नगर्ने ठेकेदारलाई')\n",
        "paddedSequence"
      ],
      "metadata": {
        "colab": {
          "base_uri": "https://localhost:8080/"
        },
        "id": "ggWrf0NhqYB3",
        "outputId": "fbe39faf-321f-4862-db61-f4df54f91882"
      },
      "execution_count": 39,
      "outputs": [
        {
          "output_type": "execute_result",
          "data": {
            "text/plain": [
              "[0, 0, 0, 0, 0, 0, 0, 0, 25, 26, 27]"
            ]
          },
          "metadata": {},
          "execution_count": 39
        }
      ]
    },
    {
      "cell_type": "code",
      "source": [
        "paddedSequence = get_padded_seqeunce('काम नगर्ने ठेकेदारलाई')\n",
        "predictedIndex = np.argmax(loaded_model.predict([paddedSequence], verbose=0))\n",
        "predictedIndex"
      ],
      "metadata": {
        "colab": {
          "base_uri": "https://localhost:8080/"
        },
        "id": "rEKv9i8yn-mN",
        "outputId": "690d57ec-0f40-4409-8414-eb5a79df1f6b"
      },
      "execution_count": 40,
      "outputs": [
        {
          "output_type": "execute_result",
          "data": {
            "text/plain": [
              "28"
            ]
          },
          "metadata": {},
          "execution_count": 40
        }
      ]
    },
    {
      "cell_type": "code",
      "source": [
        "generate_headline('काम नगर्ने ठेकेदारलाई', 10, loaded_model)"
      ],
      "metadata": {
        "colab": {
          "base_uri": "https://localhost:8080/",
          "height": 35
        },
        "id": "0BzkxH1Do5Jz",
        "outputId": "29d3e555-3096-4137-c600-05d29c16668a"
      },
      "execution_count": 41,
      "outputs": [
        {
          "output_type": "execute_result",
          "data": {
            "text/plain": [
              "'काम नगर्ने ठेकेदारलाई सरकारले पटक–पटक म्याद थप्दैन मन्त्री गुरूङ गुरूङ'"
            ],
            "application/vnd.google.colaboratory.intrinsic+json": {
              "type": "string"
            }
          },
          "metadata": {},
          "execution_count": 41
        }
      ]
    },
    {
      "cell_type": "code",
      "source": [],
      "metadata": {
        "id": "lXC2QdyFvKAT"
      },
      "execution_count": null,
      "outputs": []
    }
  ],
  "metadata": {
    "colab": {
      "provenance": [],
      "authorship_tag": "ABX9TyNCDp05IYFvs+gFpSM63LLW",
      "include_colab_link": true
    },
    "kernelspec": {
      "display_name": "Python 3",
      "name": "python3"
    },
    "language_info": {
      "name": "python"
    }
  },
  "nbformat": 4,
  "nbformat_minor": 0
}