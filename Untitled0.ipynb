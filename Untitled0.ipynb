{
  "nbformat": 4,
  "nbformat_minor": 0,
  "metadata": {
    "colab": {
      "provenance": [],
      "authorship_tag": "ABX9TyPgNzq/zUmpEWfnG85HvvSn",
      "include_colab_link": true
    },
    "kernelspec": {
      "name": "python3",
      "display_name": "Python 3"
    },
    "language_info": {
      "name": "python"
    }
  },
  "cells": [
    {
      "cell_type": "markdown",
      "metadata": {
        "id": "view-in-github",
        "colab_type": "text"
      },
      "source": [
        "<a href=\"https://colab.research.google.com/github/Suraez/nepali-news-headline-generator/blob/main/Untitled0.ipynb\" target=\"_parent\"><img src=\"https://colab.research.google.com/assets/colab-badge.svg\" alt=\"Open In Colab\"/></a>"
      ]
    },
    {
      "cell_type": "code",
      "execution_count": 1,
      "metadata": {
        "id": "dT6xiCVqyKoL",
        "colab": {
          "base_uri": "https://localhost:8080/"
        },
        "outputId": "6ea03049-ee32-42d8-eb73-4825dae90ff1"
      },
      "outputs": [
        {
          "output_type": "stream",
          "name": "stdout",
          "text": [
            "hello world\n"
          ]
        }
      ],
      "source": [
        "print(\"hello world\")"
      ]
    },
    {
      "cell_type": "code",
      "source": [
        "import pickle\n",
        "\n",
        "\n",
        "def load_headline_from_file():\n",
        "    with open('/content/output.pkl', 'rb') as file:\n",
        "        lst = pickle.load(file)\n",
        "    return lst"
      ],
      "metadata": {
        "id": "xhxllZU2TARA"
      },
      "execution_count": 2,
      "outputs": []
    },
    {
      "cell_type": "code",
      "source": [
        "headlineList = load_headline_from_file()\n",
        "print('\\n'.join([headline for headline in headlineList]))"
      ],
      "metadata": {
        "id": "ggE-O-L1TTto"
      },
      "execution_count": null,
      "outputs": []
    },
    {
      "cell_type": "code",
      "source": [
        "def view_dataset(dataset):\n",
        "  print('\\n'.join([headline for headline in dataset]))"
      ],
      "metadata": {
        "id": "2K-DCyfdUro6"
      },
      "execution_count": 12,
      "outputs": []
    },
    {
      "cell_type": "code",
      "source": [
        "headlineList[0]"
      ],
      "metadata": {
        "colab": {
          "base_uri": "https://localhost:8080/",
          "height": 35
        },
        "id": "8XXVopjoTbCP",
        "outputId": "3c97e784-7571-4202-c9c6-da6d4e917af4"
      },
      "execution_count": 5,
      "outputs": [
        {
          "output_type": "execute_result",
          "data": {
            "text/plain": [
              "'नीति तथा कार्यक्रम : स्वास्थ्यका के-के विषय समेटिए\\xa0?'"
            ],
            "application/vnd.google.colaboratory.intrinsic+json": {
              "type": "string"
            }
          },
          "metadata": {},
          "execution_count": 5
        }
      ]
    },
    {
      "cell_type": "code",
      "source": [
        "import string\n",
        "def clean_dataset():\n",
        "    processed_sentences = []\n",
        "    for sentence in headlineList:\n",
        "        # Remove punctuation\n",
        "        sentence = sentence.translate(str.maketrans('', '', string.punctuation))\n",
        "        # Remove double spaces\n",
        "        sentence = ' '.join(sentence.split())\n",
        "        processed_sentences.append(sentence)\n",
        "    return processed_sentences"
      ],
      "metadata": {
        "id": "X9FvQw_aT1v2"
      },
      "execution_count": 6,
      "outputs": []
    },
    {
      "cell_type": "code",
      "source": [
        "cleanedHeadlines = clean_dataset()"
      ],
      "metadata": {
        "id": "aUpaZ-ydUcJu"
      },
      "execution_count": 7,
      "outputs": []
    },
    {
      "cell_type": "code",
      "source": [
        "view_dataset(cleanedHeadlines)"
      ],
      "metadata": {
        "id": "GwXs1SbCUhMr"
      },
      "execution_count": null,
      "outputs": []
    },
    {
      "cell_type": "code",
      "source": [
        "from keras.preprocessing.text import Tokenizer\n",
        "\n",
        "tokenizer = Tokenizer()"
      ],
      "metadata": {
        "id": "A154G4ZuUkoc"
      },
      "execution_count": 16,
      "outputs": []
    },
    {
      "cell_type": "code",
      "source": [
        "tokenizer.fit_on_texts(cleanedHeadlines)"
      ],
      "metadata": {
        "id": "x_-c1PQeVaaz"
      },
      "execution_count": 17,
      "outputs": []
    },
    {
      "cell_type": "code",
      "source": [
        "wordVocab = tokenizer.word_index"
      ],
      "metadata": {
        "id": "eDcOelQjVvcK"
      },
      "execution_count": 21,
      "outputs": []
    },
    {
      "cell_type": "code",
      "source": [
        "len(wordVocab)"
      ],
      "metadata": {
        "colab": {
          "base_uri": "https://localhost:8080/"
        },
        "id": "X9UtR9zMVyDT",
        "outputId": "87e9fd53-22d2-4843-be2f-30aa84dac034"
      },
      "execution_count": 58,
      "outputs": [
        {
          "output_type": "execute_result",
          "data": {
            "text/plain": [
              "176"
            ]
          },
          "metadata": {},
          "execution_count": 58
        }
      ]
    },
    {
      "cell_type": "code",
      "source": [
        "cleanedHeadlines"
      ],
      "metadata": {
        "id": "PnfyZe1lX7MW"
      },
      "execution_count": null,
      "outputs": []
    },
    {
      "cell_type": "code",
      "source": [
        "def create_data_sequence():\n",
        "  data_sequence=[]\n",
        "  for headline in cleanedHeadlines:\n",
        "    tempSequence = tokenizer.texts_to_sequences([headline])[0]\n",
        "    for i in range(1, len(tempSequence)):\n",
        "      data_sequence.append(tempSequence[:i+1])\n",
        "\n",
        "  return data_sequence"
      ],
      "metadata": {
        "id": "3gQcGoOtWDWc"
      },
      "execution_count": 33,
      "outputs": []
    },
    {
      "cell_type": "code",
      "source": [
        "data_sequence = create_data_sequence()"
      ],
      "metadata": {
        "id": "c3fSPAC2XygJ"
      },
      "execution_count": 36,
      "outputs": []
    },
    {
      "cell_type": "code",
      "source": [
        "data_sequence"
      ],
      "metadata": {
        "id": "jWUmrwioZxfH"
      },
      "execution_count": null,
      "outputs": []
    },
    {
      "cell_type": "code",
      "source": [
        "def pad_data_sequence():\n",
        "  maxLengthDataSequence = max([len(sequence) for sequence in data_sequence])\n",
        "  for sequence in data_sequence:\n",
        "    padding_size = maxLengthDataSequence - len(sequence)\n",
        "    padding = [0] * padding_size\n",
        "    sequence[:0] = padding\n"
      ],
      "metadata": {
        "id": "Md0YjfM-aJ7N"
      },
      "execution_count": 41,
      "outputs": []
    },
    {
      "cell_type": "code",
      "source": [
        "pad_data_sequence()"
      ],
      "metadata": {
        "id": "Gou10yRAaw7g"
      },
      "execution_count": 42,
      "outputs": []
    },
    {
      "cell_type": "code",
      "source": [
        "import numpy as np\n",
        "\n",
        "input_output_tensor = np.array(data_sequence)\n",
        "print(input_output_tensor.shape)"
      ],
      "metadata": {
        "id": "zTQxXMf0ayrR",
        "outputId": "8a05da8e-e6e0-44d0-fec2-7ee02676dced",
        "colab": {
          "base_uri": "https://localhost:8080/"
        }
      },
      "execution_count": 46,
      "outputs": [
        {
          "output_type": "stream",
          "name": "stdout",
          "text": [
            "(194, 13)\n"
          ]
        }
      ]
    },
    {
      "cell_type": "code",
      "source": [
        "input_tensor = input_output_tensor[:, :-1]\n",
        "output_tensor = input_output_tensor[:,-1]"
      ],
      "metadata": {
        "id": "tCuCvFjqbq4e"
      },
      "execution_count": 53,
      "outputs": []
    },
    {
      "cell_type": "code",
      "source": [
        "input_tensor.shape"
      ],
      "metadata": {
        "id": "8UYzwGFVcb8C",
        "outputId": "7c556bf3-420f-48af-8767-4c510790a512",
        "colab": {
          "base_uri": "https://localhost:8080/"
        }
      },
      "execution_count": 54,
      "outputs": [
        {
          "output_type": "execute_result",
          "data": {
            "text/plain": [
              "(194, 12)"
            ]
          },
          "metadata": {},
          "execution_count": 54
        }
      ]
    },
    {
      "cell_type": "code",
      "source": [
        "output_tensor.shape"
      ],
      "metadata": {
        "id": "itDN1xPfcf25",
        "outputId": "79f3deef-6d86-4425-88e4-15f42ab985e1",
        "colab": {
          "base_uri": "https://localhost:8080/"
        }
      },
      "execution_count": 55,
      "outputs": [
        {
          "output_type": "execute_result",
          "data": {
            "text/plain": [
              "(194,)"
            ]
          },
          "metadata": {},
          "execution_count": 55
        }
      ]
    },
    {
      "cell_type": "code",
      "source": [
        "output_tensor"
      ],
      "metadata": {
        "id": "NTJrO8PPcjny",
        "outputId": "eabc0495-ac80-4895-ec29-99aa260b5b8e",
        "colab": {
          "base_uri": "https://localhost:8080/"
        }
      },
      "execution_count": 56,
      "outputs": [
        {
          "output_type": "execute_result",
          "data": {
            "text/plain": [
              "array([  3,   9,  23,  24,  25,  26,  28,  29,  30,  10,  31,  32,  33,\n",
              "        35,   1,  36,  37,  38,  39,  40,  12,  42,   1,  43,  13,  44,\n",
              "        45,  47,  48,  49,  50,  51,  52,  53,  54,  56,  57,   1,  58,\n",
              "        59,  60,  61,  63,  14,   4,  64,   2,  65,  66,  67,  10,  68,\n",
              "        69,   5,   3,  71,  16,  10,  15,  72,  73,  74,  75,   5,   1,\n",
              "         6,  77,  78,  79,  80,   2,  81,  82,  83,  84,  85,  86,  87,\n",
              "        16,   3,  88,  13,  89,  91,   9,  92,   2,  94,  95,  96,  97,\n",
              "        98,  99, 100, 101, 102, 103, 104,   6, 106, 107, 108, 109,   2,\n",
              "       111, 112, 113, 114, 116, 117,   4,   3, 118, 119, 120, 121, 122,\n",
              "         2,  11,  19,   8, 123, 124,   2,   1,  21,  22,   8,   6,  11,\n",
              "        14, 126, 127, 128, 129,   3, 130, 132, 133, 134,  12, 136, 137,\n",
              "       138, 139, 140, 141, 142, 143, 145, 146, 147, 148,   9, 150, 151,\n",
              "         7, 152, 153, 154,   7,  18,   7, 155, 156, 158, 159, 160,   1,\n",
              "       161, 162, 163, 164,   8, 166, 167,   5, 168, 169, 170, 171,   4,\n",
              "       172, 174, 175,   5,   1,  21,  22,   8,   6,  11, 176,   2])"
            ]
          },
          "metadata": {},
          "execution_count": 56
        }
      ]
    },
    {
      "cell_type": "markdown",
      "source": [
        "transformin output tensor in one-hot encoding"
      ],
      "metadata": {
        "id": "8xylLe_NdALN"
      }
    },
    {
      "cell_type": "code",
      "source": [
        "output_tensor = tf.keras.utils.to_categorical(output_tensor, len(wordVocab) + 1)"
      ],
      "metadata": {
        "id": "cm6rWYiAc6Bm"
      },
      "execution_count": 60,
      "outputs": []
    },
    {
      "cell_type": "code",
      "source": [
        "output_tensor.shape"
      ],
      "metadata": {
        "id": "S8UgNO7mdn2P",
        "outputId": "6336108b-2530-447a-9a19-0a6c036d72dc",
        "colab": {
          "base_uri": "https://localhost:8080/"
        }
      },
      "execution_count": 61,
      "outputs": [
        {
          "output_type": "execute_result",
          "data": {
            "text/plain": [
              "(194, 177)"
            ]
          },
          "metadata": {},
          "execution_count": 61
        }
      ]
    },
    {
      "cell_type": "code",
      "source": [
        "input_tensor.shape"
      ],
      "metadata": {
        "id": "eRh9Fszld4Us",
        "outputId": "dc330906-a231-4163-9c06-49fd99d0348f",
        "colab": {
          "base_uri": "https://localhost:8080/"
        }
      },
      "execution_count": 63,
      "outputs": [
        {
          "output_type": "execute_result",
          "data": {
            "text/plain": [
              "(194, 12)"
            ]
          },
          "metadata": {},
          "execution_count": 63
        }
      ]
    },
    {
      "cell_type": "code",
      "source": [
        "from keras import Sequential\n",
        "from keras.layers import Embedding, LSTM, Dense, Dropout\n",
        "\n",
        "vocabLen = len(wordVocab) + 1\n",
        "\n",
        "model = Sequential()\n",
        "model.add(Embedding(vocabLen, 100, input_length=12))\n",
        "model.add(Dense(100))\n",
        "model.add(LSTM(100))\n",
        "model.add(Dropout(0.2))\n",
        "model.add(Dense(vocabLen, activation=\"softmax\"))\n",
        "\n",
        "model.compile(loss=\"categorical_crossentropy\", optimizer=\"adam\")"
      ],
      "metadata": {
        "id": "vpETqy_ad7fY"
      },
      "execution_count": 71,
      "outputs": []
    },
    {
      "cell_type": "code",
      "source": [
        "model.fit(input_tensor, output_tensor, epochs=10, verbose=1)"
      ],
      "metadata": {
        "id": "ic06serbeRKd",
        "outputId": "8899c817-6b40-470d-85e5-ce30ee9bc753",
        "colab": {
          "base_uri": "https://localhost:8080/"
        }
      },
      "execution_count": 72,
      "outputs": [
        {
          "output_type": "stream",
          "name": "stdout",
          "text": [
            "Epoch 1/10\n",
            "7/7 [==============================] - 9s 39ms/step - loss: 5.1785\n",
            "Epoch 2/10\n",
            "7/7 [==============================] - 0s 47ms/step - loss: 5.1621\n",
            "Epoch 3/10\n",
            "7/7 [==============================] - 0s 36ms/step - loss: 5.1474\n",
            "Epoch 4/10\n",
            "7/7 [==============================] - 0s 35ms/step - loss: 5.1167\n",
            "Epoch 5/10\n",
            "7/7 [==============================] - 0s 40ms/step - loss: 5.0371\n",
            "Epoch 6/10\n",
            "7/7 [==============================] - 0s 40ms/step - loss: 4.9487\n",
            "Epoch 7/10\n",
            "7/7 [==============================] - 0s 41ms/step - loss: 4.9232\n",
            "Epoch 8/10\n",
            "7/7 [==============================] - 0s 41ms/step - loss: 4.8873\n",
            "Epoch 9/10\n",
            "7/7 [==============================] - 0s 36ms/step - loss: 4.8742\n",
            "Epoch 10/10\n",
            "7/7 [==============================] - 0s 30ms/step - loss: 4.8190\n"
          ]
        },
        {
          "output_type": "execute_result",
          "data": {
            "text/plain": [
              "<keras.callbacks.History at 0x7f056493b790>"
            ]
          },
          "metadata": {},
          "execution_count": 72
        }
      ]
    },
    {
      "cell_type": "code",
      "source": [],
      "metadata": {
        "id": "Ab9q_4EFhhRJ"
      },
      "execution_count": null,
      "outputs": []
    }
  ]
}